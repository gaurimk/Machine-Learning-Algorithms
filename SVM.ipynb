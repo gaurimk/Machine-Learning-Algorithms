{
 "cells": [
  {
   "cell_type": "code",
   "execution_count": 5,
   "id": "5c8333f5-56d5-4e4f-8bc8-871058ac1365",
   "metadata": {},
   "outputs": [],
   "source": [
    "import numpy as np\n",
    "import pandas as pd\n",
    "import matplotlib.pyplot as plt"
   ]
  },
  {
   "cell_type": "code",
   "execution_count": 2,
   "id": "c74542a7-b83d-4565-b1f4-6faf99a17a7d",
   "metadata": {},
   "outputs": [],
   "source": [
    "x=np.linspace(-5.0,5.0,100)\n",
    "y=np.sqrt(10**2-x**2)\n",
    "y=np.hstack([y,-y])\n",
    "x=np.hstack([x,-x])"
   ]
  },
  {
   "cell_type": "code",
   "execution_count": 3,
   "id": "25f4b719-9ad3-4d45-8297-c061bad8732b",
   "metadata": {},
   "outputs": [],
   "source": [
    "x1=np.linspace(-5.0,5.0,100)\n",
    "y1=np.sqrt(5**2-x1**2)\n",
    "y1=np.hstack([y1,-y1])\n",
    "x1=np.hstack([x1,-x1])"
   ]
  },
  {
   "cell_type": "code",
   "execution_count": 4,
   "id": "9f944ad9-5209-4b12-a447-ec64ef98ae78",
   "metadata": {},
   "outputs": [
    {
     "data": {
      "text/plain": [
       "<matplotlib.collections.PathCollection at 0x105be5f90>"
      ]
     },
     "execution_count": 4,
     "metadata": {},
     "output_type": "execute_result"
    },
    {
     "data": {
      "image/png": "[encoded data removed]",
      "text/plain": [
       "<Figure size 640x480 with 1 Axes>"
      ]
     },
     "metadata": {},
     "output_type": "display_data"
    }
   ],
   "source": [
    "plt.scatter(y,x)\n",
    "plt.scatter(y1,x1)"
   ]
  },
  {
   "cell_type": "code",
   "execution_count": 8,
   "id": "990c0cd2-8694-45e4-8d06-a9b6eaeb6d3a",
   "metadata": {},
   "outputs": [
    {
     "data": {
      "text/html": [
       "<div>\n",
       "<style scoped>\n",
       "    .dataframe tbody tr th:only-of-type {\n",
       "        vertical-align: middle;\n",
       "    }\n",
       "\n",
       "    .dataframe tbody tr th {\n",
       "        vertical-align: top;\n",
       "    }\n",
       "\n",
       "    .dataframe thead th {\n",
       "        text-align: right;\n",
       "    }\n",
       "</style>\n",
       "<table border=\"1\" class=\"dataframe\">\n",
       "  <thead>\n",
       "    <tr style=\"text-align: right;\">\n",
       "      <th></th>\n",
       "      <th>X1</th>\n",
       "      <th>X2</th>\n",
       "      <th>Y</th>\n",
       "    </tr>\n",
       "  </thead>\n",
       "  <tbody>\n",
       "    <tr>\n",
       "      <th>0</th>\n",
       "      <td>8.660254</td>\n",
       "      <td>-5.00000</td>\n",
       "      <td>0</td>\n",
       "    </tr>\n",
       "    <tr>\n",
       "      <th>1</th>\n",
       "      <td>8.717792</td>\n",
       "      <td>-4.89899</td>\n",
       "      <td>0</td>\n",
       "    </tr>\n",
       "    <tr>\n",
       "      <th>2</th>\n",
       "      <td>8.773790</td>\n",
       "      <td>-4.79798</td>\n",
       "      <td>0</td>\n",
       "    </tr>\n",
       "  </tbody>\n",
       "</table>\n",
       "</div>"
      ],
      "text/plain": [
       "         X1       X2  Y\n",
       "0  8.660254 -5.00000  0\n",
       "1  8.717792 -4.89899  0\n",
       "2  8.773790 -4.79798  0"
      ]
     },
     "execution_count": 8,
     "metadata": {},
     "output_type": "execute_result"
    }
   ],
   "source": [
    "df1=pd.DataFrame(np.vstack([y,x]).T,columns=['X1','X2'])\n",
    "df1['Y']=0\n",
    "df2=pd.DataFrame(np.vstack([y1,x1]).T,columns=['X1','X2'])\n",
    "df2['Y']=1\n",
    "df = pd.concat([df1, df2], ignore_index=True)\n",
    "df.head(3)"
   ]
  },
  {
   "cell_type": "code",
   "execution_count": 11,
   "id": "ec69e15d-9f55-41ee-867f-5e326f30f15b",
   "metadata": {},
   "outputs": [],
   "source": [
    "#Independent and Dependent features\n",
    "X=df.iloc[:,:2]\n",
    "y=df.Y"
   ]
  },
  {
   "cell_type": "code",
   "execution_count": 12,
   "id": "0ac8d85b-ee3d-4a02-8f3d-c84fb937c9ef",
   "metadata": {},
   "outputs": [
    {
     "data": {
      "text/plain": [
       "0      0\n",
       "1      0\n",
       "2      0\n",
       "3      0\n",
       "4      0\n",
       "      ..\n",
       "395    1\n",
       "396    1\n",
       "397    1\n",
       "398    1\n",
       "399    1\n",
       "Name: Y, Length: 400, dtype: int64"
      ]
     },
     "execution_count": 12,
     "metadata": {},
     "output_type": "execute_result"
    }
   ],
   "source": [
    "y"
   ]
  },
  {
   "cell_type": "code",
   "execution_count": 13,
   "id": "36837d56-60bd-4e6c-8d43-77f5a793a9c4",
   "metadata": {},
   "outputs": [],
   "source": [
    "#Split the dataset into train and test\n",
    "from sklearn.model_selection import train_test_split\n",
    "X_train,X_test,y_train,y_test=train_test_split(X,y,test_size=0.25,random_state=0)"
   ]
  },
  {
   "cell_type": "code",
   "execution_count": 14,
   "id": "08f906ed-71c2-42bf-b786-8223f855b59a",
   "metadata": {},
   "outputs": [
    {
     "data": {
      "text/plain": [
       "250    1\n",
       "63     0\n",
       "312    1\n",
       "159    0\n",
       "283    1\n",
       "      ..\n",
       "323    1\n",
       "192    0\n",
       "117    0\n",
       "47     0\n",
       "172    0\n",
       "Name: Y, Length: 300, dtype: int64"
      ]
     },
     "execution_count": 14,
     "metadata": {},
     "output_type": "execute_result"
    }
   ],
   "source": [
    "y_train"
   ]
  },
  {
   "cell_type": "code",
   "execution_count": 15,
   "id": "e5f05383-8f4c-4eea-a917-bf36bf7d7912",
   "metadata": {},
   "outputs": [
    {
     "data": {
      "text/html": [
       "<style>#sk-container-id-1 {\n",
       "  /* Definition of color scheme common for light and dark mode */\n",
       "  --sklearn-color-text: #000;\n",
       "  --sklearn-color-text-muted: #666;\n",
       "  --sklearn-color-line: gray;\n",
       "  /* Definition of color scheme for unfitted estimators */\n",
       "  --sklearn-color-unfitted-level-0: #fff5e6;\n",
       "  --sklearn-color-unfitted-level-1: #f6e4d2;\n",
       "  --sklearn-color-unfitted-level-2: #ffe0b3;\n",
       "  --sklearn-color-unfitted-level-3: chocolate;\n",
       "  /* Definition of color scheme for fitted estimators */\n",
       "  --sklearn-color-fitted-level-0: #f0f8ff;\n",
       "  --sklearn-color-fitted-level-1: #d4ebff;\n",
       "  --sklearn-color-fitted-level-2: #b3dbfd;\n",
       "  --sklearn-color-fitted-level-3: cornflowerblue;\n",
       "\n",
       "  /* Specific color for light theme */\n",
       "  --sklearn-color-text-on-default-background: var(--sg-text-color, var(--theme-code-foreground, var(--jp-content-font-color1, black)));\n",
       "  --sklearn-color-background: var(--sg-background-color, var(--theme-background, var(--jp-layout-color0, white)));\n",
       "  --sklearn-color-border-box: var(--sg-text-color, var(--theme-code-foreground, var(--jp-content-font-color1, black)));\n",
       "  --sklearn-color-icon: #696969;\n",
       "\n",
       "  @media (prefers-color-scheme: dark) {\n",
       "    /* Redefinition of color scheme for dark theme */\n",
       "    --sklearn-color-text-on-default-background: var(--sg-text-color, var(--theme-code-foreground, var(--jp-content-font-color1, white)));\n",
       "    --sklearn-color-background: var(--sg-background-color, var(--theme-background, var(--jp-layout-color0, #111)));\n",
       "    --sklearn-color-border-box: var(--sg-text-color, var(--theme-code-foreground, var(--jp-content-font-color1, white)));\n",
       "    --sklearn-color-icon: #878787;\n",
       "  }\n",
       "}\n",
       "\n",
       "#sk-container-id-1 {\n",
       "  color: var(--sklearn-color-text);\n",
       "}\n",
       "\n",
       "#sk-container-id-1 pre {\n",
       "  padding: 0;\n",
       "}\n",
       "\n",
       "#sk-container-id-1 input.sk-hidden--visually {\n",
       "  border: 0;\n",
       "  clip: rect(1px 1px 1px 1px);\n",
       "  clip: rect(1px, 1px, 1px, 1px);\n",
       "  height: 1px;\n",
       "  margin: -1px;\n",
       "  overflow: hidden;\n",
       "  padding: 0;\n",
       "  position: absolute;\n",
       "  width: 1px;\n",
       "}\n",
       "\n",
       "#sk-container-id-1 div.sk-dashed-wrapped {\n",
       "  border: 1px dashed var(--sklearn-color-line);\n",
       "  margin: 0 0.4em 0.5em 0.4em;\n",
       "  box-sizing: border-box;\n",
       "  padding-bottom: 0.4em;\n",
       "  background-color: var(--sklearn-color-background);\n",
       "}\n",
       "\n",
       "#sk-container-id-1 div.sk-container {\n",
       "  /* jupyter's `normalize.less` sets `[hidden] { display: none; }`\n",
       "     but bootstrap.min.css set `[hidden] { display: none !important; }`\n",
       "     so we also need the `!important` here to be able to override the\n",
       "     default hidden behavior on the sphinx rendered scikit-learn.org.\n",
       "     See: https://github.com/scikit-learn/scikit-learn/issues/21755 */\n",
       "  display: inline-block !important;\n",
       "  position: relative;\n",
       "}\n",
       "\n",
       "#sk-container-id-1 div.sk-text-repr-fallback {\n",
       "  display: none;\n",
       "}\n",
       "\n",
       "div.sk-parallel-item,\n",
       "div.sk-serial,\n",
       "div.sk-item {\n",
       "  /* draw centered vertical line to link estimators */\n",
       "  background-image: linear-gradient(var(--sklearn-color-text-on-default-background), var(--sklearn-color-text-on-default-background));\n",
       "  background-size: 2px 100%;\n",
       "  background-repeat: no-repeat;\n",
       "  background-position: center center;\n",
       "}\n",
       "\n",
       "/* Parallel-specific style estimator block */\n",
       "\n",
       "#sk-container-id-1 div.sk-parallel-item::after {\n",
       "  content: \"\";\n",
       "  width: 100%;\n",
       "  border-bottom: 2px solid var(--sklearn-color-text-on-default-background);\n",
       "  flex-grow: 1;\n",
       "}\n",
       "\n",
       "#sk-container-id-1 div.sk-parallel {\n",
       "  display: flex;\n",
       "  align-items: stretch;\n",
       "  justify-content: center;\n",
       "  background-color: var(--sklearn-color-background);\n",
       "  position: relative;\n",
       "}\n",
       "\n",
       "#sk-container-id-1 div.sk-parallel-item {\n",
       "  display: flex;\n",
       "  flex-direction: column;\n",
       "}\n",
       "\n",
       "#sk-container-id-1 div.sk-parallel-item:first-child::after {\n",
       "  align-self: flex-end;\n",
       "  width: 50%;\n",
       "}\n",
       "\n",
       "#sk-container-id-1 div.sk-parallel-item:last-child::after {\n",
       "  align-self: flex-start;\n",
       "  width: 50%;\n",
       "}\n",
       "\n",
       "#sk-container-id-1 div.sk-parallel-item:only-child::after {\n",
       "  width: 0;\n",
       "}\n",
       "\n",
       "/* Serial-specific style estimator block */\n",
       "\n",
       "#sk-container-id-1 div.sk-serial {\n",
       "  display: flex;\n",
       "  flex-direction: column;\n",
       "  align-items: center;\n",
       "  background-color: var(--sklearn-color-background);\n",
       "  padding-right: 1em;\n",
       "  padding-left: 1em;\n",
       "}\n",
       "\n",
       "\n",
       "/* Toggleable style: style used for estimator/Pipeline/ColumnTransformer box that is\n",
       "clickable and can be expanded/collapsed.\n",
       "- Pipeline and ColumnTransformer use this feature and define the default style\n",
       "- Estimators will overwrite some part of the style using the `sk-estimator` class\n",
       "*/\n",
       "\n",
       "/* Pipeline and ColumnTransformer style (default) */\n",
       "\n",
       "#sk-container-id-1 div.sk-toggleable {\n",
       "  /* Default theme specific background. It is overwritten whether we have a\n",
       "  specific estimator or a Pipeline/ColumnTransformer */\n",
       "  background-color: var(--sklearn-color-background);\n",
       "}\n",
       "\n",
       "/* Toggleable label */\n",
       "#sk-container-id-1 label.sk-toggleable__label {\n",
       "  cursor: pointer;\n",
       "  display: flex;\n",
       "  width: 100%;\n",
       "  margin-bottom: 0;\n",
       "  padding: 0.5em;\n",
       "  box-sizing: border-box;\n",
       "  text-align: center;\n",
       "  align-items: start;\n",
       "  justify-content: space-between;\n",
       "  gap: 0.5em;\n",
       "}\n",
       "\n",
       "#sk-container-id-1 label.sk-toggleable__label .caption {\n",
       "  font-size: 0.6rem;\n",
       "  font-weight: lighter;\n",
       "  color: var(--sklearn-color-text-muted);\n",
       "}\n",
       "\n",
       "#sk-container-id-1 label.sk-toggleable__label-arrow:before {\n",
       "  /* Arrow on the left of the label */\n",
       "  content: \"▸\";\n",
       "  float: left;\n",
       "  margin-right: 0.25em;\n",
       "  color: var(--sklearn-color-icon);\n",
       "}\n",
       "\n",
       "#sk-container-id-1 label.sk-toggleable__label-arrow:hover:before {\n",
       "  color: var(--sklearn-color-text);\n",
       "}\n",
       "\n",
       "/* Toggleable content - dropdown */\n",
       "\n",
       "#sk-container-id-1 div.sk-toggleable__content {\n",
       "  max-height: 0;\n",
       "  max-width: 0;\n",
       "  overflow: hidden;\n",
       "  text-align: left;\n",
       "  /* unfitted */\n",
       "  background-color: var(--sklearn-color-unfitted-level-0);\n",
       "}\n",
       "\n",
       "#sk-container-id-1 div.sk-toggleable__content.fitted {\n",
       "  /* fitted */\n",
       "  background-color: var(--sklearn-color-fitted-level-0);\n",
       "}\n",
       "\n",
       "#sk-container-id-1 div.sk-toggleable__content pre {\n",
       "  margin: 0.2em;\n",
       "  border-radius: 0.25em;\n",
       "  color: var(--sklearn-color-text);\n",
       "  /* unfitted */\n",
       "  background-color: var(--sklearn-color-unfitted-level-0);\n",
       "}\n",
       "\n",
       "#sk-container-id-1 div.sk-toggleable__content.fitted pre {\n",
       "  /* unfitted */\n",
       "  background-color: var(--sklearn-color-fitted-level-0);\n",
       "}\n",
       "\n",
       "#sk-container-id-1 input.sk-toggleable__control:checked~div.sk-toggleable__content {\n",
       "  /* Expand drop-down */\n",
       "  max-height: 200px;\n",
       "  max-width: 100%;\n",
       "  overflow: auto;\n",
       "}\n",
       "\n",
       "#sk-container-id-1 input.sk-toggleable__control:checked~label.sk-toggleable__label-arrow:before {\n",
       "  content: \"▾\";\n",
       "}\n",
       "\n",
       "/* Pipeline/ColumnTransformer-specific style */\n",
       "\n",
       "#sk-container-id-1 div.sk-label input.sk-toggleable__control:checked~label.sk-toggleable__label {\n",
       "  color: var(--sklearn-color-text);\n",
       "  background-color: var(--sklearn-color-unfitted-level-2);\n",
       "}\n",
       "\n",
       "#sk-container-id-1 div.sk-label.fitted input.sk-toggleable__control:checked~label.sk-toggleable__label {\n",
       "  background-color: var(--sklearn-color-fitted-level-2);\n",
       "}\n",
       "\n",
       "/* Estimator-specific style */\n",
       "\n",
       "/* Colorize estimator box */\n",
       "#sk-container-id-1 div.sk-estimator input.sk-toggleable__control:checked~label.sk-toggleable__label {\n",
       "  /* unfitted */\n",
       "  background-color: var(--sklearn-color-unfitted-level-2);\n",
       "}\n",
       "\n",
       "#sk-container-id-1 div.sk-estimator.fitted input.sk-toggleable__control:checked~label.sk-toggleable__label {\n",
       "  /* fitted */\n",
       "  background-color: var(--sklearn-color-fitted-level-2);\n",
       "}\n",
       "\n",
       "#sk-container-id-1 div.sk-label label.sk-toggleable__label,\n",
       "#sk-container-id-1 div.sk-label label {\n",
       "  /* The background is the default theme color */\n",
       "  color: var(--sklearn-color-text-on-default-background);\n",
       "}\n",
       "\n",
       "/* On hover, darken the color of the background */\n",
       "#sk-container-id-1 div.sk-label:hover label.sk-toggleable__label {\n",
       "  color: var(--sklearn-color-text);\n",
       "  background-color: var(--sklearn-color-unfitted-level-2);\n",
       "}\n",
       "\n",
       "/* Label box, darken color on hover, fitted */\n",
       "#sk-container-id-1 div.sk-label.fitted:hover label.sk-toggleable__label.fitted {\n",
       "  color: var(--sklearn-color-text);\n",
       "  background-color: var(--sklearn-color-fitted-level-2);\n",
       "}\n",
       "\n",
       "/* Estimator label */\n",
       "\n",
       "#sk-container-id-1 div.sk-label label {\n",
       "  font-family: monospace;\n",
       "  font-weight: bold;\n",
       "  display: inline-block;\n",
       "  line-height: 1.2em;\n",
       "}\n",
       "\n",
       "#sk-container-id-1 div.sk-label-container {\n",
       "  text-align: center;\n",
       "}\n",
       "\n",
       "/* Estimator-specific */\n",
       "#sk-container-id-1 div.sk-estimator {\n",
       "  font-family: monospace;\n",
       "  border: 1px dotted var(--sklearn-color-border-box);\n",
       "  border-radius: 0.25em;\n",
       "  box-sizing: border-box;\n",
       "  margin-bottom: 0.5em;\n",
       "  /* unfitted */\n",
       "  background-color: var(--sklearn-color-unfitted-level-0);\n",
       "}\n",
       "\n",
       "#sk-container-id-1 div.sk-estimator.fitted {\n",
       "  /* fitted */\n",
       "  background-color: var(--sklearn-color-fitted-level-0);\n",
       "}\n",
       "\n",
       "/* on hover */\n",
       "#sk-container-id-1 div.sk-estimator:hover {\n",
       "  /* unfitted */\n",
       "  background-color: var(--sklearn-color-unfitted-level-2);\n",
       "}\n",
       "\n",
       "#sk-container-id-1 div.sk-estimator.fitted:hover {\n",
       "  /* fitted */\n",
       "  background-color: var(--sklearn-color-fitted-level-2);\n",
       "}\n",
       "\n",
       "/* Specification for estimator info (e.g. \"i\" and \"?\") */\n",
       "\n",
       "/* Common style for \"i\" and \"?\" */\n",
       "\n",
       ".sk-estimator-doc-link,\n",
       "a:link.sk-estimator-doc-link,\n",
       "a:visited.sk-estimator-doc-link {\n",
       "  float: right;\n",
       "  font-size: smaller;\n",
       "  line-height: 1em;\n",
       "  font-family: monospace;\n",
       "  background-color: var(--sklearn-color-background);\n",
       "  border-radius: 1em;\n",
       "  height: 1em;\n",
       "  width: 1em;\n",
       "  text-decoration: none !important;\n",
       "  margin-left: 0.5em;\n",
       "  text-align: center;\n",
       "  /* unfitted */\n",
       "  border: var(--sklearn-color-unfitted-level-1) 1pt solid;\n",
       "  color: var(--sklearn-color-unfitted-level-1);\n",
       "}\n",
       "\n",
       ".sk-estimator-doc-link.fitted,\n",
       "a:link.sk-estimator-doc-link.fitted,\n",
       "a:visited.sk-estimator-doc-link.fitted {\n",
       "  /* fitted */\n",
       "  border: var(--sklearn-color-fitted-level-1) 1pt solid;\n",
       "  color: var(--sklearn-color-fitted-level-1);\n",
       "}\n",
       "\n",
       "/* On hover */\n",
       "div.sk-estimator:hover .sk-estimator-doc-link:hover,\n",
       ".sk-estimator-doc-link:hover,\n",
       "div.sk-label-container:hover .sk-estimator-doc-link:hover,\n",
       ".sk-estimator-doc-link:hover {\n",
       "  /* unfitted */\n",
       "  background-color: var(--sklearn-color-unfitted-level-3);\n",
       "  color: var(--sklearn-color-background);\n",
       "  text-decoration: none;\n",
       "}\n",
       "\n",
       "div.sk-estimator.fitted:hover .sk-estimator-doc-link.fitted:hover,\n",
       ".sk-estimator-doc-link.fitted:hover,\n",
       "div.sk-label-container:hover .sk-estimator-doc-link.fitted:hover,\n",
       ".sk-estimator-doc-link.fitted:hover {\n",
       "  /* fitted */\n",
       "  background-color: var(--sklearn-color-fitted-level-3);\n",
       "  color: var(--sklearn-color-background);\n",
       "  text-decoration: none;\n",
       "}\n",
       "\n",
       "/* Span, style for the box shown on hovering the info icon */\n",
       ".sk-estimator-doc-link span {\n",
       "  display: none;\n",
       "  z-index: 9999;\n",
       "  position: relative;\n",
       "  font-weight: normal;\n",
       "  right: .2ex;\n",
       "  padding: .5ex;\n",
       "  margin: .5ex;\n",
       "  width: min-content;\n",
       "  min-width: 20ex;\n",
       "  max-width: 50ex;\n",
       "  color: var(--sklearn-color-text);\n",
       "  box-shadow: 2pt 2pt 4pt #999;\n",
       "  /* unfitted */\n",
       "  background: var(--sklearn-color-unfitted-level-0);\n",
       "  border: .5pt solid var(--sklearn-color-unfitted-level-3);\n",
       "}\n",
       "\n",
       ".sk-estimator-doc-link.fitted span {\n",
       "  /* fitted */\n",
       "  background: var(--sklearn-color-fitted-level-0);\n",
       "  border: var(--sklearn-color-fitted-level-3);\n",
       "}\n",
       "\n",
       ".sk-estimator-doc-link:hover span {\n",
       "  display: block;\n",
       "}\n",
       "\n",
       "/* \"?\"-specific style due to the `<a>` HTML tag */\n",
       "\n",
       "#sk-container-id-1 a.estimator_doc_link {\n",
       "  float: right;\n",
       "  font-size: 1rem;\n",
       "  line-height: 1em;\n",
       "  font-family: monospace;\n",
       "  background-color: var(--sklearn-color-background);\n",
       "  border-radius: 1rem;\n",
       "  height: 1rem;\n",
       "  width: 1rem;\n",
       "  text-decoration: none;\n",
       "  /* unfitted */\n",
       "  color: var(--sklearn-color-unfitted-level-1);\n",
       "  border: var(--sklearn-color-unfitted-level-1) 1pt solid;\n",
       "}\n",
       "\n",
       "#sk-container-id-1 a.estimator_doc_link.fitted {\n",
       "  /* fitted */\n",
       "  border: var(--sklearn-color-fitted-level-1) 1pt solid;\n",
       "  color: var(--sklearn-color-fitted-level-1);\n",
       "}\n",
       "\n",
       "/* On hover */\n",
       "#sk-container-id-1 a.estimator_doc_link:hover {\n",
       "  /* unfitted */\n",
       "  background-color: var(--sklearn-color-unfitted-level-3);\n",
       "  color: var(--sklearn-color-background);\n",
       "  text-decoration: none;\n",
       "}\n",
       "\n",
       "#sk-container-id-1 a.estimator_doc_link.fitted:hover {\n",
       "  /* fitted */\n",
       "  background-color: var(--sklearn-color-fitted-level-3);\n",
       "}\n",
       "</style><div id=\"sk-container-id-1\" class=\"sk-top-container\"><div class=\"sk-text-repr-fallback\"><pre>SVC(kernel=&#x27;linear&#x27;)</pre><b>In a Jupyter environment, please rerun this cell to show the HTML representation or trust the notebook. <br />On GitHub, the HTML representation is unable to render, please try loading this page with nbviewer.org.</b></div><div class=\"sk-container\" hidden><div class=\"sk-item\"><div class=\"sk-estimator fitted sk-toggleable\"><input class=\"sk-toggleable__control sk-hidden--visually\" id=\"sk-estimator-id-1\" type=\"checkbox\" checked><label for=\"sk-estimator-id-1\" class=\"sk-toggleable__label fitted sk-toggleable__label-arrow\"><div><div>SVC</div></div><div><a class=\"sk-estimator-doc-link fitted\" rel=\"noreferrer\" target=\"_blank\" href=\"https://scikit-learn.org/1.6/modules/generated/sklearn.svm.SVC.html\">?<span>Documentation for SVC</span></a><span class=\"sk-estimator-doc-link fitted\">i<span>Fitted</span></span></div></label><div class=\"sk-toggleable__content fitted\"><pre>SVC(kernel=&#x27;linear&#x27;)</pre></div> </div></div></div></div>"
      ],
      "text/plain": [
       "SVC(kernel='linear')"
      ]
     },
     "execution_count": 15,
     "metadata": {},
     "output_type": "execute_result"
    }
   ],
   "source": [
    "from sklearn.svm import SVC\n",
    "classifier=SVC(kernel=\"linear\")\n",
    "classifier.fit(X_train,y_train)"
   ]
  },
  {
   "cell_type": "code",
   "execution_count": 17,
   "id": "a70c3c28-6b5c-4189-8277-59092f81e98c",
   "metadata": {},
   "outputs": [
    {
     "data": {
      "text/plain": [
       "0.45"
      ]
     },
     "execution_count": 17,
     "metadata": {},
     "output_type": "execute_result"
    }
   ],
   "source": [
    "from sklearn.metrics import accuracy_score\n",
    "y_pred = classifier.predict(X_test)\n",
    "accuracy_score(y_test,y_pred)"
   ]
  },
  {
   "cell_type": "code",
   "execution_count": 18,
   "id": "865a3e12-9124-49c1-b8fc-79eb817c492e",
   "metadata": {},
   "outputs": [
    {
     "data": {
      "text/html": [
       "<div>\n",
       "<style scoped>\n",
       "    .dataframe tbody tr th:only-of-type {\n",
       "        vertical-align: middle;\n",
       "    }\n",
       "\n",
       "    .dataframe tbody tr th {\n",
       "        vertical-align: top;\n",
       "    }\n",
       "\n",
       "    .dataframe thead th {\n",
       "        text-align: right;\n",
       "    }\n",
       "</style>\n",
       "<table border=\"1\" class=\"dataframe\">\n",
       "  <thead>\n",
       "    <tr style=\"text-align: right;\">\n",
       "      <th></th>\n",
       "      <th>X1</th>\n",
       "      <th>X2</th>\n",
       "      <th>Y</th>\n",
       "    </tr>\n",
       "  </thead>\n",
       "  <tbody>\n",
       "    <tr>\n",
       "      <th>0</th>\n",
       "      <td>8.660254</td>\n",
       "      <td>-5.00000</td>\n",
       "      <td>0</td>\n",
       "    </tr>\n",
       "    <tr>\n",
       "      <th>1</th>\n",
       "      <td>8.717792</td>\n",
       "      <td>-4.89899</td>\n",
       "      <td>0</td>\n",
       "    </tr>\n",
       "    <tr>\n",
       "      <th>2</th>\n",
       "      <td>8.773790</td>\n",
       "      <td>-4.79798</td>\n",
       "      <td>0</td>\n",
       "    </tr>\n",
       "    <tr>\n",
       "      <th>3</th>\n",
       "      <td>8.828277</td>\n",
       "      <td>-4.69697</td>\n",
       "      <td>0</td>\n",
       "    </tr>\n",
       "    <tr>\n",
       "      <th>4</th>\n",
       "      <td>8.881281</td>\n",
       "      <td>-4.59596</td>\n",
       "      <td>0</td>\n",
       "    </tr>\n",
       "  </tbody>\n",
       "</table>\n",
       "</div>"
      ],
      "text/plain": [
       "         X1       X2  Y\n",
       "0  8.660254 -5.00000  0\n",
       "1  8.717792 -4.89899  0\n",
       "2  8.773790 -4.79798  0\n",
       "3  8.828277 -4.69697  0\n",
       "4  8.881281 -4.59596  0"
      ]
     },
     "execution_count": 18,
     "metadata": {},
     "output_type": "execute_result"
    }
   ],
   "source": [
    "df.head()"
   ]
  },
  {
   "cell_type": "markdown",
   "id": "bde2f047-6952-4e45-b082-24d1f717ae7e",
   "metadata": {},
   "source": [
    "# Polynomial Kernel"
   ]
  },
  {
   "cell_type": "markdown",
   "id": "57546c55-23b9-41b3-af7d-39c995d6356c",
   "metadata": {},
   "source": [
    "#                          $K(x,y) = (x^T y + c)^d$\n"
   ]
  },
  {
   "cell_type": "code",
   "execution_count": 19,
   "id": "26c104ca-1e61-4c7b-9364-21ee856d3bb5",
   "metadata": {},
   "outputs": [
    {
     "data": {
      "text/html": [
       "<div>\n",
       "<style scoped>\n",
       "    .dataframe tbody tr th:only-of-type {\n",
       "        vertical-align: middle;\n",
       "    }\n",
       "\n",
       "    .dataframe tbody tr th {\n",
       "        vertical-align: top;\n",
       "    }\n",
       "\n",
       "    .dataframe thead th {\n",
       "        text-align: right;\n",
       "    }\n",
       "</style>\n",
       "<table border=\"1\" class=\"dataframe\">\n",
       "  <thead>\n",
       "    <tr style=\"text-align: right;\">\n",
       "      <th></th>\n",
       "      <th>X1</th>\n",
       "      <th>X2</th>\n",
       "      <th>Y</th>\n",
       "      <th>X1_Square</th>\n",
       "      <th>X2_Square</th>\n",
       "      <th>X1*X2</th>\n",
       "    </tr>\n",
       "  </thead>\n",
       "  <tbody>\n",
       "    <tr>\n",
       "      <th>0</th>\n",
       "      <td>8.660254</td>\n",
       "      <td>-5.00000</td>\n",
       "      <td>0</td>\n",
       "      <td>75.000000</td>\n",
       "      <td>25.000000</td>\n",
       "      <td>-43.301270</td>\n",
       "    </tr>\n",
       "    <tr>\n",
       "      <th>1</th>\n",
       "      <td>8.717792</td>\n",
       "      <td>-4.89899</td>\n",
       "      <td>0</td>\n",
       "      <td>75.999898</td>\n",
       "      <td>24.000102</td>\n",
       "      <td>-42.708375</td>\n",
       "    </tr>\n",
       "    <tr>\n",
       "      <th>2</th>\n",
       "      <td>8.773790</td>\n",
       "      <td>-4.79798</td>\n",
       "      <td>0</td>\n",
       "      <td>76.979390</td>\n",
       "      <td>23.020610</td>\n",
       "      <td>-42.096467</td>\n",
       "    </tr>\n",
       "    <tr>\n",
       "      <th>3</th>\n",
       "      <td>8.828277</td>\n",
       "      <td>-4.69697</td>\n",
       "      <td>0</td>\n",
       "      <td>77.938476</td>\n",
       "      <td>22.061524</td>\n",
       "      <td>-41.466150</td>\n",
       "    </tr>\n",
       "    <tr>\n",
       "      <th>4</th>\n",
       "      <td>8.881281</td>\n",
       "      <td>-4.59596</td>\n",
       "      <td>0</td>\n",
       "      <td>78.877155</td>\n",
       "      <td>21.122845</td>\n",
       "      <td>-40.818009</td>\n",
       "    </tr>\n",
       "  </tbody>\n",
       "</table>\n",
       "</div>"
      ],
      "text/plain": [
       "         X1       X2  Y  X1_Square  X2_Square      X1*X2\n",
       "0  8.660254 -5.00000  0  75.000000  25.000000 -43.301270\n",
       "1  8.717792 -4.89899  0  75.999898  24.000102 -42.708375\n",
       "2  8.773790 -4.79798  0  76.979390  23.020610 -42.096467\n",
       "3  8.828277 -4.69697  0  77.938476  22.061524 -41.466150\n",
       "4  8.881281 -4.59596  0  78.877155  21.122845 -40.818009"
      ]
     },
     "execution_count": 19,
     "metadata": {},
     "output_type": "execute_result"
    }
   ],
   "source": [
    "# We need to find components for the polynomial Kernel \n",
    "# X1,X2,X1_sqare,X2_square,X1*X2\n",
    "df['X1_Square']=df['X1']**2\n",
    "df['X2_Square']=df['X2']**2\n",
    "df['X1*X2']=(df['X1']*df['X2'])\n",
    "df.head()"
   ]
  },
  {
   "cell_type": "code",
   "execution_count": 20,
   "id": "dfc6b008-0f7f-4fdc-8e8e-01dd4d3f7a5e",
   "metadata": {},
   "outputs": [],
   "source": [
    "## Independent and Dependent Features\n",
    "X=df[['X1','X2','X1_Square','X2_Square','X1*X2']]\n",
    "y=df['Y']"
   ]
  },
  {
   "cell_type": "code",
   "execution_count": 21,
   "id": "b0d3b149-fced-4604-80d1-44a35ddd4e3f",
   "metadata": {},
   "outputs": [
    {
     "data": {
      "text/plain": [
       "0      0\n",
       "1      0\n",
       "2      0\n",
       "3      0\n",
       "4      0\n",
       "      ..\n",
       "395    1\n",
       "396    1\n",
       "397    1\n",
       "398    1\n",
       "399    1\n",
       "Name: Y, Length: 400, dtype: int64"
      ]
     },
     "execution_count": 21,
     "metadata": {},
     "output_type": "execute_result"
    }
   ],
   "source": [
    "y"
   ]
  },
  {
   "cell_type": "code",
   "execution_count": 22,
   "id": "4597a9b7-d714-4ef6-8bcf-f96595eb9ee2",
   "metadata": {},
   "outputs": [],
   "source": [
    "X_train,X_test,y_train,y_test=train_test_split(X,y,test_size=0.25,random_state=0)"
   ]
  },
  {
   "cell_type": "code",
   "execution_count": 23,
   "id": "7361bf00-b291-47cb-8979-b9ce6cab8d57",
   "metadata": {},
   "outputs": [
    {
     "data": {
      "text/html": [
       "<div>\n",
       "<style scoped>\n",
       "    .dataframe tbody tr th:only-of-type {\n",
       "        vertical-align: middle;\n",
       "    }\n",
       "\n",
       "    .dataframe tbody tr th {\n",
       "        vertical-align: top;\n",
       "    }\n",
       "\n",
       "    .dataframe thead th {\n",
       "        text-align: right;\n",
       "    }\n",
       "</style>\n",
       "<table border=\"1\" class=\"dataframe\">\n",
       "  <thead>\n",
       "    <tr style=\"text-align: right;\">\n",
       "      <th></th>\n",
       "      <th>X1</th>\n",
       "      <th>X2</th>\n",
       "      <th>X1_Square</th>\n",
       "      <th>X2_Square</th>\n",
       "      <th>X1*X2</th>\n",
       "    </tr>\n",
       "  </thead>\n",
       "  <tbody>\n",
       "    <tr>\n",
       "      <th>250</th>\n",
       "      <td>4.999745</td>\n",
       "      <td>0.050505</td>\n",
       "      <td>24.997449</td>\n",
       "      <td>0.002551</td>\n",
       "      <td>0.252512</td>\n",
       "    </tr>\n",
       "    <tr>\n",
       "      <th>63</th>\n",
       "      <td>9.906589</td>\n",
       "      <td>1.363636</td>\n",
       "      <td>98.140496</td>\n",
       "      <td>1.859504</td>\n",
       "      <td>13.508984</td>\n",
       "    </tr>\n",
       "    <tr>\n",
       "      <th>312</th>\n",
       "      <td>-3.263736</td>\n",
       "      <td>3.787879</td>\n",
       "      <td>10.651974</td>\n",
       "      <td>14.348026</td>\n",
       "      <td>-12.362637</td>\n",
       "    </tr>\n",
       "    <tr>\n",
       "      <th>159</th>\n",
       "      <td>-9.953852</td>\n",
       "      <td>-0.959596</td>\n",
       "      <td>99.079176</td>\n",
       "      <td>0.920824</td>\n",
       "      <td>9.551676</td>\n",
       "    </tr>\n",
       "    <tr>\n",
       "      <th>283</th>\n",
       "      <td>3.680983</td>\n",
       "      <td>3.383838</td>\n",
       "      <td>13.549638</td>\n",
       "      <td>11.450362</td>\n",
       "      <td>12.455852</td>\n",
       "    </tr>\n",
       "    <tr>\n",
       "      <th>...</th>\n",
       "      <td>...</td>\n",
       "      <td>...</td>\n",
       "      <td>...</td>\n",
       "      <td>...</td>\n",
       "      <td>...</td>\n",
       "    </tr>\n",
       "    <tr>\n",
       "      <th>323</th>\n",
       "      <td>-4.223140</td>\n",
       "      <td>2.676768</td>\n",
       "      <td>17.834915</td>\n",
       "      <td>7.165085</td>\n",
       "      <td>-11.304366</td>\n",
       "    </tr>\n",
       "    <tr>\n",
       "      <th>192</th>\n",
       "      <td>-9.031653</td>\n",
       "      <td>-4.292929</td>\n",
       "      <td>81.570758</td>\n",
       "      <td>18.429242</td>\n",
       "      <td>38.772248</td>\n",
       "    </tr>\n",
       "    <tr>\n",
       "      <th>117</th>\n",
       "      <td>-9.445795</td>\n",
       "      <td>3.282828</td>\n",
       "      <td>89.223038</td>\n",
       "      <td>10.776962</td>\n",
       "      <td>-31.008922</td>\n",
       "    </tr>\n",
       "    <tr>\n",
       "      <th>47</th>\n",
       "      <td>9.996811</td>\n",
       "      <td>-0.252525</td>\n",
       "      <td>99.936231</td>\n",
       "      <td>0.063769</td>\n",
       "      <td>-2.524447</td>\n",
       "    </tr>\n",
       "    <tr>\n",
       "      <th>172</th>\n",
       "      <td>-9.738311</td>\n",
       "      <td>-2.272727</td>\n",
       "      <td>94.834711</td>\n",
       "      <td>5.165289</td>\n",
       "      <td>22.132526</td>\n",
       "    </tr>\n",
       "  </tbody>\n",
       "</table>\n",
       "<p>300 rows × 5 columns</p>\n",
       "</div>"
      ],
      "text/plain": [
       "           X1        X2  X1_Square  X2_Square      X1*X2\n",
       "250  4.999745  0.050505  24.997449   0.002551   0.252512\n",
       "63   9.906589  1.363636  98.140496   1.859504  13.508984\n",
       "312 -3.263736  3.787879  10.651974  14.348026 -12.362637\n",
       "159 -9.953852 -0.959596  99.079176   0.920824   9.551676\n",
       "283  3.680983  3.383838  13.549638  11.450362  12.455852\n",
       "..        ...       ...        ...        ...        ...\n",
       "323 -4.223140  2.676768  17.834915   7.165085 -11.304366\n",
       "192 -9.031653 -4.292929  81.570758  18.429242  38.772248\n",
       "117 -9.445795  3.282828  89.223038  10.776962 -31.008922\n",
       "47   9.996811 -0.252525  99.936231   0.063769  -2.524447\n",
       "172 -9.738311 -2.272727  94.834711   5.165289  22.132526\n",
       "\n",
       "[300 rows x 5 columns]"
      ]
     },
     "execution_count": 23,
     "metadata": {},
     "output_type": "execute_result"
    }
   ],
   "source": [
    "X_train"
   ]
  },
  {
   "cell_type": "code",
   "execution_count": 25,
   "id": "7eb499cd-735b-40a7-9e22-041a2e42daad",
   "metadata": {},
   "outputs": [
    {
     "data": {
      "application/vnd.plotly.v1+json": {
       "config": {
        "plotlyServerURL": "https://plot.ly"
       },
       "data": [
        {
         "hovertemplate": "X1=%{x}<br>X2=%{y}<br>X1*X2=%{z}<br>Y=%{marker.color}<extra></extra>",
         "legendgroup": "",
         "marker": {
          "color": {
           "bdata": "AAAAAAAAAAAAAAAAAAAAAAAAAAAAAAAAAAAAAAAAAAAAAAAAAAAAAAAAAAAAAAAAAAAAAAAAAAAAAAAAAAAAAAAAAAAAAAAAAAAAAAAAAAAAAAAAAAAAAAAAAAAAAAAAAAAAAAAAAAAAAAAAAAAAAAAAAAAAAAAAAAAAAAAAAAAAAAAAAAAAAAAAAAAAAAAAAAAAAAAAAAAAAAAAAAAAAAAAAAAAAAAAAAAAAAAAAAAAAAAAAAAAAAAAAAAAAAAAAAAAAAAAAAABAQEBAQEBAQEBAQEBAQEBAQEBAQEBAQEBAQEBAQEBAQEBAQEBAQEBAQEBAQEBAQEBAQEBAQEBAQEBAQEBAQEBAQEBAQEBAQEBAQEBAQEBAQEBAQEBAQEBAQEBAQEBAQEBAQEBAQEBAQEBAQEBAQEBAQEBAQEBAQEBAQEBAQEBAQEBAQEBAQEBAQEBAQEBAQEBAQEBAQEBAQEBAQEBAQEBAQEBAQEBAQEBAQEBAQEBAQEBAQEBAQEBAQEBAQEBAQEBAQEBAQEBAQ==",
           "dtype": "i1"
          },
          "coloraxis": "coloraxis",
          "symbol": "circle"
         },
         "mode": "markers",
         "name": "",
         "scene": "scene",
         "showlegend": false,
         "type": "scatter3d",
         "x": {
          "bdata": "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",
          "dtype": "f8"
         },
         "y": {
          "bdata": "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",
          "dtype": "f8"
         },
         "z": {
          "bdata": "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",
          "dtype": "f8"
         }
        }
       ],
       "layout": {
        "coloraxis": {
         "colorbar": {
          "title": {
           "text": "Y"
          }
         },
         "colorscale": [
          [
           0,
           "#0d0887"
          ],
          [
           0.1111111111111111,
           "#46039f"
          ],
          [
           0.2222222222222222,
           "#7201a8"
          ],
          [
           0.3333333333333333,
           "#9c179e"
          ],
          [
           0.4444444444444444,
           "#bd3786"
          ],
          [
           0.5555555555555556,
           "#d8576b"
          ],
          [
           0.6666666666666666,
           "#ed7953"
          ],
          [
           0.7777777777777778,
           "#fb9f3a"
          ],
          [
           0.8888888888888888,
           "#fdca26"
          ],
          [
           1,
           "#f0f921"
          ]
         ]
        },
        "legend": {
         "tracegroupgap": 0
        },
        "margin": {
         "t": 60
        },
        "scene": {
         "domain": {
          "x": [
           0,
           1
          ],
          "y": [
           0,
           1
          ]
         },
         "xaxis": {
          "title": {
           "text": "X1"
          }
         },
         "yaxis": {
          "title": {
           "text": "X2"
          }
         },
         "zaxis": {
          "title": {
           "text": "X1*X2"
          }
         }
        },
        "template": {
         "data": {
          "bar": [
           {
            "error_x": {
             "color": "#2a3f5f"
            },
            "error_y": {
             "color": "#2a3f5f"
            },
            "marker": {
             "line": {
              "color": "#E5ECF6",
              "width": 0.5
             },
             "pattern": {
              "fillmode": "overlay",
              "size": 10,
              "solidity": 0.2
             }
            },
            "type": "bar"
           }
          ],
          "barpolar": [
           {
            "marker": {
             "line": {
              "color": "#E5ECF6",
              "width": 0.5
             },
             "pattern": {
              "fillmode": "overlay",
              "size": 10,
              "solidity": 0.2
             }
            },
            "type": "barpolar"
           }
          ],
          "carpet": [
           {
            "aaxis": {
             "endlinecolor": "#2a3f5f",
             "gridcolor": "white",
             "linecolor": "white",
             "minorgridcolor": "white",
             "startlinecolor": "#2a3f5f"
            },
            "baxis": {
             "endlinecolor": "#2a3f5f",
             "gridcolor": "white",
             "linecolor": "white",
             "minorgridcolor": "white",
             "startlinecolor": "#2a3f5f"
            },
            "type": "carpet"
           }
          ],
          "choropleth": [
           {
            "colorbar": {
             "outlinewidth": 0,
             "ticks": ""
            },
            "type": "choropleth"
           }
          ],
          "contour": [
           {
            "colorbar": {
             "outlinewidth": 0,
             "ticks": ""
            },
            "colorscale": [
             [
              0,
              "#0d0887"
             ],
             [
              0.1111111111111111,
              "#46039f"
             ],
             [
              0.2222222222222222,
              "#7201a8"
             ],
             [
              0.3333333333333333,
              "#9c179e"
             ],
             [
              0.4444444444444444,
              "#bd3786"
             ],
             [
              0.5555555555555556,
              "#d8576b"
             ],
             [
              0.6666666666666666,
              "#ed7953"
             ],
             [
              0.7777777777777778,
              "#fb9f3a"
             ],
             [
              0.8888888888888888,
              "#fdca26"
             ],
             [
              1,
              "#f0f921"
             ]
            ],
            "type": "contour"
           }
          ],
          "contourcarpet": [
           {
            "colorbar": {
             "outlinewidth": 0,
             "ticks": ""
            },
            "type": "contourcarpet"
           }
          ],
          "heatmap": [
           {
            "colorbar": {
             "outlinewidth": 0,
             "ticks": ""
            },
            "colorscale": [
             [
              0,
              "#0d0887"
             ],
             [
              0.1111111111111111,
              "#46039f"
             ],
             [
              0.2222222222222222,
              "#7201a8"
             ],
             [
              0.3333333333333333,
              "#9c179e"
             ],
             [
              0.4444444444444444,
              "#bd3786"
             ],
             [
              0.5555555555555556,
              "#d8576b"
             ],
             [
              0.6666666666666666,
              "#ed7953"
             ],
             [
              0.7777777777777778,
              "#fb9f3a"
             ],
             [
              0.8888888888888888,
              "#fdca26"
             ],
             [
              1,
              "#f0f921"
             ]
            ],
            "type": "heatmap"
           }
          ],
          "histogram": [
           {
            "marker": {
             "pattern": {
              "fillmode": "overlay",
              "size": 10,
              "solidity": 0.2
             }
            },
            "type": "histogram"
           }
          ],
          "histogram2d": [
           {
            "colorbar": {
             "outlinewidth": 0,
             "ticks": ""
            },
            "colorscale": [
             [
              0,
              "#0d0887"
             ],
             [
              0.1111111111111111,
              "#46039f"
             ],
             [
              0.2222222222222222,
              "#7201a8"
             ],
             [
              0.3333333333333333,
              "#9c179e"
             ],
             [
              0.4444444444444444,
              "#bd3786"
             ],
             [
              0.5555555555555556,
              "#d8576b"
             ],
             [
              0.6666666666666666,
              "#ed7953"
             ],
             [
              0.7777777777777778,
              "#fb9f3a"
             ],
             [
              0.8888888888888888,
              "#fdca26"
             ],
             [
              1,
              "#f0f921"
             ]
            ],
            "type": "histogram2d"
           }
          ],
          "histogram2dcontour": [
           {
            "colorbar": {
             "outlinewidth": 0,
             "ticks": ""
            },
            "colorscale": [
             [
              0,
              "#0d0887"
             ],
             [
              0.1111111111111111,
              "#46039f"
             ],
             [
              0.2222222222222222,
              "#7201a8"
             ],
             [
              0.3333333333333333,
              "#9c179e"
             ],
             [
              0.4444444444444444,
              "#bd3786"
             ],
             [
              0.5555555555555556,
              "#d8576b"
             ],
             [
              0.6666666666666666,
              "#ed7953"
             ],
             [
              0.7777777777777778,
              "#fb9f3a"
             ],
             [
              0.8888888888888888,
              "#fdca26"
             ],
             [
              1,
              "#f0f921"
             ]
            ],
            "type": "histogram2dcontour"
           }
          ],
          "mesh3d": [
           {
            "colorbar": {
             "outlinewidth": 0,
             "ticks": ""
            },
            "type": "mesh3d"
           }
          ],
          "parcoords": [
           {
            "line": {
             "colorbar": {
              "outlinewidth": 0,
              "ticks": ""
             }
            },
            "type": "parcoords"
           }
          ],
          "pie": [
           {
            "automargin": true,
            "type": "pie"
           }
          ],
          "scatter": [
           {
            "fillpattern": {
             "fillmode": "overlay",
             "size": 10,
             "solidity": 0.2
            },
            "type": "scatter"
           }
          ],
          "scatter3d": [
           {
            "line": {
             "colorbar": {
              "outlinewidth": 0,
              "ticks": ""
             }
            },
            "marker": {
             "colorbar": {
              "outlinewidth": 0,
              "ticks": ""
             }
            },
            "type": "scatter3d"
           }
          ],
          "scattercarpet": [
           {
            "marker": {
             "colorbar": {
              "outlinewidth": 0,
              "ticks": ""
             }
            },
            "type": "scattercarpet"
           }
          ],
          "scattergeo": [
           {
            "marker": {
             "colorbar": {
              "outlinewidth": 0,
              "ticks": ""
             }
            },
            "type": "scattergeo"
           }
          ],
          "scattergl": [
           {
            "marker": {
             "colorbar": {
              "outlinewidth": 0,
              "ticks": ""
             }
            },
            "type": "scattergl"
           }
          ],
          "scattermap": [
           {
            "marker": {
             "colorbar": {
              "outlinewidth": 0,
              "ticks": ""
             }
            },
            "type": "scattermap"
           }
          ],
          "scattermapbox": [
           {
            "marker": {
             "colorbar": {
              "outlinewidth": 0,
              "ticks": ""
             }
            },
            "type": "scattermapbox"
           }
          ],
          "scatterpolar": [
           {
            "marker": {
             "colorbar": {
              "outlinewidth": 0,
              "ticks": ""
             }
            },
            "type": "scatterpolar"
           }
          ],
          "scatterpolargl": [
           {
            "marker": {
             "colorbar": {
              "outlinewidth": 0,
              "ticks": ""
             }
            },
            "type": "scatterpolargl"
           }
          ],
          "scatterternary": [
           {
            "marker": {
             "colorbar": {
              "outlinewidth": 0,
              "ticks": ""
             }
            },
            "type": "scatterternary"
           }
          ],
          "surface": [
           {
            "colorbar": {
             "outlinewidth": 0,
             "ticks": ""
            },
            "colorscale": [
             [
              0,
              "#0d0887"
             ],
             [
              0.1111111111111111,
              "#46039f"
             ],
             [
              0.2222222222222222,
              "#7201a8"
             ],
             [
              0.3333333333333333,
              "#9c179e"
             ],
             [
              0.4444444444444444,
              "#bd3786"
             ],
             [
              0.5555555555555556,
              "#d8576b"
             ],
             [
              0.6666666666666666,
              "#ed7953"
             ],
             [
              0.7777777777777778,
              "#fb9f3a"
             ],
             [
              0.8888888888888888,
              "#fdca26"
             ],
             [
              1,
              "#f0f921"
             ]
            ],
            "type": "surface"
           }
          ],
          "table": [
           {
            "cells": {
             "fill": {
              "color": "#EBF0F8"
             },
             "line": {
              "color": "white"
             }
            },
            "header": {
             "fill": {
              "color": "#C8D4E3"
             },
             "line": {
              "color": "white"
             }
            },
            "type": "table"
           }
          ]
         },
         "layout": {
          "annotationdefaults": {
           "arrowcolor": "#2a3f5f",
           "arrowhead": 0,
           "arrowwidth": 1
          },
          "autotypenumbers": "strict",
          "coloraxis": {
           "colorbar": {
            "outlinewidth": 0,
            "ticks": ""
           }
          },
          "colorscale": {
           "diverging": [
            [
             0,
             "#8e0152"
            ],
            [
             0.1,
             "#c51b7d"
            ],
            [
             0.2,
             "#de77ae"
            ],
            [
             0.3,
             "#f1b6da"
            ],
            [
             0.4,
             "#fde0ef"
            ],
            [
             0.5,
             "#f7f7f7"
            ],
            [
             0.6,
             "#e6f5d0"
            ],
            [
             0.7,
             "#b8e186"
            ],
            [
             0.8,
             "#7fbc41"
            ],
            [
             0.9,
             "#4d9221"
            ],
            [
             1,
             "#276419"
            ]
           ],
           "sequential": [
            [
             0,
             "#0d0887"
            ],
            [
             0.1111111111111111,
             "#46039f"
            ],
            [
             0.2222222222222222,
             "#7201a8"
            ],
            [
             0.3333333333333333,
             "#9c179e"
            ],
            [
             0.4444444444444444,
             "#bd3786"
            ],
            [
             0.5555555555555556,
             "#d8576b"
            ],
            [
             0.6666666666666666,
             "#ed7953"
            ],
            [
             0.7777777777777778,
             "#fb9f3a"
            ],
            [
             0.8888888888888888,
             "#fdca26"
            ],
            [
             1,
             "#f0f921"
            ]
           ],
           "sequentialminus": [
            [
             0,
             "#0d0887"
            ],
            [
             0.1111111111111111,
             "#46039f"
            ],
            [
             0.2222222222222222,
             "#7201a8"
            ],
            [
             0.3333333333333333,
             "#9c179e"
            ],
            [
             0.4444444444444444,
             "#bd3786"
            ],
            [
             0.5555555555555556,
             "#d8576b"
            ],
            [
             0.6666666666666666,
             "#ed7953"
            ],
            [
             0.7777777777777778,
             "#fb9f3a"
            ],
            [
             0.8888888888888888,
             "#fdca26"
            ],
            [
             1,
             "#f0f921"
            ]
           ]
          },
          "colorway": [
           "#636efa",
           "#EF553B",
           "#00cc96",
           "#ab63fa",
           "#FFA15A",
           "#19d3f3",
           "#FF6692",
           "#B6E880",
           "#FF97FF",
           "#FECB52"
          ],
          "font": {
           "color": "#2a3f5f"
          },
          "geo": {
           "bgcolor": "white",
           "lakecolor": "white",
           "landcolor": "#E5ECF6",
           "showlakes": true,
           "showland": true,
           "subunitcolor": "white"
          },
          "hoverlabel": {
           "align": "left"
          },
          "hovermode": "closest",
          "mapbox": {
           "style": "light"
          },
          "paper_bgcolor": "white",
          "plot_bgcolor": "#E5ECF6",
          "polar": {
           "angularaxis": {
            "gridcolor": "white",
            "linecolor": "white",
            "ticks": ""
           },
           "bgcolor": "#E5ECF6",
           "radialaxis": {
            "gridcolor": "white",
            "linecolor": "white",
            "ticks": ""
           }
          },
          "scene": {
           "xaxis": {
            "backgroundcolor": "#E5ECF6",
            "gridcolor": "white",
            "gridwidth": 2,
            "linecolor": "white",
            "showbackground": true,
            "ticks": "",
            "zerolinecolor": "white"
           },
           "yaxis": {
            "backgroundcolor": "#E5ECF6",
            "gridcolor": "white",
            "gridwidth": 2,
            "linecolor": "white",
            "showbackground": true,
            "ticks": "",
            "zerolinecolor": "white"
           },
           "zaxis": {
            "backgroundcolor": "#E5ECF6",
            "gridcolor": "white",
            "gridwidth": 2,
            "linecolor": "white",
            "showbackground": true,
            "ticks": "",
            "zerolinecolor": "white"
           }
          },
          "shapedefaults": {
           "line": {
            "color": "#2a3f5f"
           }
          },
          "ternary": {
           "aaxis": {
            "gridcolor": "white",
            "linecolor": "white",
            "ticks": ""
           },
           "baxis": {
            "gridcolor": "white",
            "linecolor": "white",
            "ticks": ""
           },
           "bgcolor": "#E5ECF6",
           "caxis": {
            "gridcolor": "white",
            "linecolor": "white",
            "ticks": ""
           }
          },
          "title": {
           "x": 0.05
          },
          "xaxis": {
           "automargin": true,
           "gridcolor": "white",
           "linecolor": "white",
           "ticks": "",
           "title": {
            "standoff": 15
           },
           "zerolinecolor": "white",
           "zerolinewidth": 2
          },
          "yaxis": {
           "automargin": true,
           "gridcolor": "white",
           "linecolor": "white",
           "ticks": "",
           "title": {
            "standoff": 15
           },
           "zerolinecolor": "white",
           "zerolinewidth": 2
          }
         }
        }
       }
      },
      "image/png": "[encoded data removed]"
     },
     "metadata": {},
     "output_type": "display_data"
    }
   ],
   "source": [
    "import plotly.express as px\n",
    "fig=px.scatter_3d(df,x='X1',y='X2',z='X1*X2',color='Y')\n",
    "fig.show()"
   ]
  },
  {
   "cell_type": "code",
   "execution_count": 27,
   "id": "b3d98eb7-5972-48ee-8454-df0803d0a493",
   "metadata": {},
   "outputs": [
    {
     "data": {
      "application/vnd.plotly.v1+json": {
       "config": {
        "plotlyServerURL": "https://plot.ly"
       },
       "data": [
        {
         "hovertemplate": "X1_Square=%{y}<br>X1*X2=%{z}<br>Y=%{marker.color}<extra></extra>",
         "legendgroup": "",
         "marker": {
          "color": {
           "bdata": "AAAAAAAAAAAAAAAAAAAAAAAAAAAAAAAAAAAAAAAAAAAAAAAAAAAAAAAAAAAAAAAAAAAAAAAAAAAAAAAAAAAAAAAAAAAAAAAAAAAAAAAAAAAAAAAAAAAAAAAAAAAAAAAAAAAAAAAAAAAAAAAAAAAAAAAAAAAAAAAAAAAAAAAAAAAAAAAAAAAAAAAAAAAAAAAAAAAAAAAAAAAAAAAAAAAAAAAAAAAAAAAAAAAAAAAAAAAAAAAAAAAAAAAAAAAAAAAAAAAAAAAAAAABAQEBAQEBAQEBAQEBAQEBAQEBAQEBAQEBAQEBAQEBAQEBAQEBAQEBAQEBAQEBAQEBAQEBAQEBAQEBAQEBAQEBAQEBAQEBAQEBAQEBAQEBAQEBAQEBAQEBAQEBAQEBAQEBAQEBAQEBAQEBAQEBAQEBAQEBAQEBAQEBAQEBAQEBAQEBAQEBAQEBAQEBAQEBAQEBAQEBAQEBAQEBAQEBAQEBAQEBAQEBAQEBAQEBAQEBAQEBAQEBAQEBAQEBAQEBAQEBAQEBAQEBAQ==",
           "dtype": "i1"
          },
          "coloraxis": "coloraxis",
          "symbol": "circle"
         },
         "mode": "markers",
         "name": "",
         "scene": "scene",
         "showlegend": false,
         "type": "scatter3d",
         "x": {
          "bdata": "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",
          "dtype": "f8"
         },
         "y": {
          "bdata": "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",
          "dtype": "f8"
         },
         "z": {
          "bdata": "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",
          "dtype": "f8"
         }
        }
       ],
       "layout": {
        "coloraxis": {
         "colorbar": {
          "title": {
           "text": "Y"
          }
         },
         "colorscale": [
          [
           0,
           "#0d0887"
          ],
          [
           0.1111111111111111,
           "#46039f"
          ],
          [
           0.2222222222222222,
           "#7201a8"
          ],
          [
           0.3333333333333333,
           "#9c179e"
          ],
          [
           0.4444444444444444,
           "#bd3786"
          ],
          [
           0.5555555555555556,
           "#d8576b"
          ],
          [
           0.6666666666666666,
           "#ed7953"
          ],
          [
           0.7777777777777778,
           "#fb9f3a"
          ],
          [
           0.8888888888888888,
           "#fdca26"
          ],
          [
           1,
           "#f0f921"
          ]
         ]
        },
        "legend": {
         "tracegroupgap": 0
        },
        "margin": {
         "t": 60
        },
        "scene": {
         "domain": {
          "x": [
           0,
           1
          ],
          "y": [
           0,
           1
          ]
         },
         "xaxis": {
          "title": {
           "text": "X1_Square"
          }
         },
         "yaxis": {
          "title": {
           "text": "X1_Square"
          }
         },
         "zaxis": {
          "title": {
           "text": "X1*X2"
          }
         }
        },
        "template": {
         "data": {
          "bar": [
           {
            "error_x": {
             "color": "#2a3f5f"
            },
            "error_y": {
             "color": "#2a3f5f"
            },
            "marker": {
             "line": {
              "color": "#E5ECF6",
              "width": 0.5
             },
             "pattern": {
              "fillmode": "overlay",
              "size": 10,
              "solidity": 0.2
             }
            },
            "type": "bar"
           }
          ],
          "barpolar": [
           {
            "marker": {
             "line": {
              "color": "#E5ECF6",
              "width": 0.5
             },
             "pattern": {
              "fillmode": "overlay",
              "size": 10,
              "solidity": 0.2
             }
            },
            "type": "barpolar"
           }
          ],
          "carpet": [
           {
            "aaxis": {
             "endlinecolor": "#2a3f5f",
             "gridcolor": "white",
             "linecolor": "white",
             "minorgridcolor": "white",
             "startlinecolor": "#2a3f5f"
            },
            "baxis": {
             "endlinecolor": "#2a3f5f",
             "gridcolor": "white",
             "linecolor": "white",
             "minorgridcolor": "white",
             "startlinecolor": "#2a3f5f"
            },
            "type": "carpet"
           }
          ],
          "choropleth": [
           {
            "colorbar": {
             "outlinewidth": 0,
             "ticks": ""
            },
            "type": "choropleth"
           }
          ],
          "contour": [
           {
            "colorbar": {
             "outlinewidth": 0,
             "ticks": ""
            },
            "colorscale": [
             [
              0,
              "#0d0887"
             ],
             [
              0.1111111111111111,
              "#46039f"
             ],
             [
              0.2222222222222222,
              "#7201a8"
             ],
             [
              0.3333333333333333,
              "#9c179e"
             ],
             [
              0.4444444444444444,
              "#bd3786"
             ],
             [
              0.5555555555555556,
              "#d8576b"
             ],
             [
              0.6666666666666666,
              "#ed7953"
             ],
             [
              0.7777777777777778,
              "#fb9f3a"
             ],
             [
              0.8888888888888888,
              "#fdca26"
             ],
             [
              1,
              "#f0f921"
             ]
            ],
            "type": "contour"
           }
          ],
          "contourcarpet": [
           {
            "colorbar": {
             "outlinewidth": 0,
             "ticks": ""
            },
            "type": "contourcarpet"
           }
          ],
          "heatmap": [
           {
            "colorbar": {
             "outlinewidth": 0,
             "ticks": ""
            },
            "colorscale": [
             [
              0,
              "#0d0887"
             ],
             [
              0.1111111111111111,
              "#46039f"
             ],
             [
              0.2222222222222222,
              "#7201a8"
             ],
             [
              0.3333333333333333,
              "#9c179e"
             ],
             [
              0.4444444444444444,
              "#bd3786"
             ],
             [
              0.5555555555555556,
              "#d8576b"
             ],
             [
              0.6666666666666666,
              "#ed7953"
             ],
             [
              0.7777777777777778,
              "#fb9f3a"
             ],
             [
              0.8888888888888888,
              "#fdca26"
             ],
             [
              1,
              "#f0f921"
             ]
            ],
            "type": "heatmap"
           }
          ],
          "histogram": [
           {
            "marker": {
             "pattern": {
              "fillmode": "overlay",
              "size": 10,
              "solidity": 0.2
             }
            },
            "type": "histogram"
           }
          ],
          "histogram2d": [
           {
            "colorbar": {
             "outlinewidth": 0,
             "ticks": ""
            },
            "colorscale": [
             [
              0,
              "#0d0887"
             ],
             [
              0.1111111111111111,
              "#46039f"
             ],
             [
              0.2222222222222222,
              "#7201a8"
             ],
             [
              0.3333333333333333,
              "#9c179e"
             ],
             [
              0.4444444444444444,
              "#bd3786"
             ],
             [
              0.5555555555555556,
              "#d8576b"
             ],
             [
              0.6666666666666666,
              "#ed7953"
             ],
             [
              0.7777777777777778,
              "#fb9f3a"
             ],
             [
              0.8888888888888888,
              "#fdca26"
             ],
             [
              1,
              "#f0f921"
             ]
            ],
            "type": "histogram2d"
           }
          ],
          "histogram2dcontour": [
           {
            "colorbar": {
             "outlinewidth": 0,
             "ticks": ""
            },
            "colorscale": [
             [
              0,
              "#0d0887"
             ],
             [
              0.1111111111111111,
              "#46039f"
             ],
             [
              0.2222222222222222,
              "#7201a8"
             ],
             [
              0.3333333333333333,
              "#9c179e"
             ],
             [
              0.4444444444444444,
              "#bd3786"
             ],
             [
              0.5555555555555556,
              "#d8576b"
             ],
             [
              0.6666666666666666,
              "#ed7953"
             ],
             [
              0.7777777777777778,
              "#fb9f3a"
             ],
             [
              0.8888888888888888,
              "#fdca26"
             ],
             [
              1,
              "#f0f921"
             ]
            ],
            "type": "histogram2dcontour"
           }
          ],
          "mesh3d": [
           {
            "colorbar": {
             "outlinewidth": 0,
             "ticks": ""
            },
            "type": "mesh3d"
           }
          ],
          "parcoords": [
           {
            "line": {
             "colorbar": {
              "outlinewidth": 0,
              "ticks": ""
             }
            },
            "type": "parcoords"
           }
          ],
          "pie": [
           {
            "automargin": true,
            "type": "pie"
           }
          ],
          "scatter": [
           {
            "fillpattern": {
             "fillmode": "overlay",
             "size": 10,
             "solidity": 0.2
            },
            "type": "scatter"
           }
          ],
          "scatter3d": [
           {
            "line": {
             "colorbar": {
              "outlinewidth": 0,
              "ticks": ""
             }
            },
            "marker": {
             "colorbar": {
              "outlinewidth": 0,
              "ticks": ""
             }
            },
            "type": "scatter3d"
           }
          ],
          "scattercarpet": [
           {
            "marker": {
             "colorbar": {
              "outlinewidth": 0,
              "ticks": ""
             }
            },
            "type": "scattercarpet"
           }
          ],
          "scattergeo": [
           {
            "marker": {
             "colorbar": {
              "outlinewidth": 0,
              "ticks": ""
             }
            },
            "type": "scattergeo"
           }
          ],
          "scattergl": [
           {
            "marker": {
             "colorbar": {
              "outlinewidth": 0,
              "ticks": ""
             }
            },
            "type": "scattergl"
           }
          ],
          "scattermap": [
           {
            "marker": {
             "colorbar": {
              "outlinewidth": 0,
              "ticks": ""
             }
            },
            "type": "scattermap"
           }
          ],
          "scattermapbox": [
           {
            "marker": {
             "colorbar": {
              "outlinewidth": 0,
              "ticks": ""
             }
            },
            "type": "scattermapbox"
           }
          ],
          "scatterpolar": [
           {
            "marker": {
             "colorbar": {
              "outlinewidth": 0,
              "ticks": ""
             }
            },
            "type": "scatterpolar"
           }
          ],
          "scatterpolargl": [
           {
            "marker": {
             "colorbar": {
              "outlinewidth": 0,
              "ticks": ""
             }
            },
            "type": "scatterpolargl"
           }
          ],
          "scatterternary": [
           {
            "marker": {
             "colorbar": {
              "outlinewidth": 0,
              "ticks": ""
             }
            },
            "type": "scatterternary"
           }
          ],
          "surface": [
           {
            "colorbar": {
             "outlinewidth": 0,
             "ticks": ""
            },
            "colorscale": [
             [
              0,
              "#0d0887"
             ],
             [
              0.1111111111111111,
              "#46039f"
             ],
             [
              0.2222222222222222,
              "#7201a8"
             ],
             [
              0.3333333333333333,
              "#9c179e"
             ],
             [
              0.4444444444444444,
              "#bd3786"
             ],
             [
              0.5555555555555556,
              "#d8576b"
             ],
             [
              0.6666666666666666,
              "#ed7953"
             ],
             [
              0.7777777777777778,
              "#fb9f3a"
             ],
             [
              0.8888888888888888,
              "#fdca26"
             ],
             [
              1,
              "#f0f921"
             ]
            ],
            "type": "surface"
           }
          ],
          "table": [
           {
            "cells": {
             "fill": {
              "color": "#EBF0F8"
             },
             "line": {
              "color": "white"
             }
            },
            "header": {
             "fill": {
              "color": "#C8D4E3"
             },
             "line": {
              "color": "white"
             }
            },
            "type": "table"
           }
          ]
         },
         "layout": {
          "annotationdefaults": {
           "arrowcolor": "#2a3f5f",
           "arrowhead": 0,
           "arrowwidth": 1
          },
          "autotypenumbers": "strict",
          "coloraxis": {
           "colorbar": {
            "outlinewidth": 0,
            "ticks": ""
           }
          },
          "colorscale": {
           "diverging": [
            [
             0,
             "#8e0152"
            ],
            [
             0.1,
             "#c51b7d"
            ],
            [
             0.2,
             "#de77ae"
            ],
            [
             0.3,
             "#f1b6da"
            ],
            [
             0.4,
             "#fde0ef"
            ],
            [
             0.5,
             "#f7f7f7"
            ],
            [
             0.6,
             "#e6f5d0"
            ],
            [
             0.7,
             "#b8e186"
            ],
            [
             0.8,
             "#7fbc41"
            ],
            [
             0.9,
             "#4d9221"
            ],
            [
             1,
             "#276419"
            ]
           ],
           "sequential": [
            [
             0,
             "#0d0887"
            ],
            [
             0.1111111111111111,
             "#46039f"
            ],
            [
             0.2222222222222222,
             "#7201a8"
            ],
            [
             0.3333333333333333,
             "#9c179e"
            ],
            [
             0.4444444444444444,
             "#bd3786"
            ],
            [
             0.5555555555555556,
             "#d8576b"
            ],
            [
             0.6666666666666666,
             "#ed7953"
            ],
            [
             0.7777777777777778,
             "#fb9f3a"
            ],
            [
             0.8888888888888888,
             "#fdca26"
            ],
            [
             1,
             "#f0f921"
            ]
           ],
           "sequentialminus": [
            [
             0,
             "#0d0887"
            ],
            [
             0.1111111111111111,
             "#46039f"
            ],
            [
             0.2222222222222222,
             "#7201a8"
            ],
            [
             0.3333333333333333,
             "#9c179e"
            ],
            [
             0.4444444444444444,
             "#bd3786"
            ],
            [
             0.5555555555555556,
             "#d8576b"
            ],
            [
             0.6666666666666666,
             "#ed7953"
            ],
            [
             0.7777777777777778,
             "#fb9f3a"
            ],
            [
             0.8888888888888888,
             "#fdca26"
            ],
            [
             1,
             "#f0f921"
            ]
           ]
          },
          "colorway": [
           "#636efa",
           "#EF553B",
           "#00cc96",
           "#ab63fa",
           "#FFA15A",
           "#19d3f3",
           "#FF6692",
           "#B6E880",
           "#FF97FF",
           "#FECB52"
          ],
          "font": {
           "color": "#2a3f5f"
          },
          "geo": {
           "bgcolor": "white",
           "lakecolor": "white",
           "landcolor": "#E5ECF6",
           "showlakes": true,
           "showland": true,
           "subunitcolor": "white"
          },
          "hoverlabel": {
           "align": "left"
          },
          "hovermode": "closest",
          "mapbox": {
           "style": "light"
          },
          "paper_bgcolor": "white",
          "plot_bgcolor": "#E5ECF6",
          "polar": {
           "angularaxis": {
            "gridcolor": "white",
            "linecolor": "white",
            "ticks": ""
           },
           "bgcolor": "#E5ECF6",
           "radialaxis": {
            "gridcolor": "white",
            "linecolor": "white",
            "ticks": ""
           }
          },
          "scene": {
           "xaxis": {
            "backgroundcolor": "#E5ECF6",
            "gridcolor": "white",
            "gridwidth": 2,
            "linecolor": "white",
            "showbackground": true,
            "ticks": "",
            "zerolinecolor": "white"
           },
           "yaxis": {
            "backgroundcolor": "#E5ECF6",
            "gridcolor": "white",
            "gridwidth": 2,
            "linecolor": "white",
            "showbackground": true,
            "ticks": "",
            "zerolinecolor": "white"
           },
           "zaxis": {
            "backgroundcolor": "#E5ECF6",
            "gridcolor": "white",
            "gridwidth": 2,
            "linecolor": "white",
            "showbackground": true,
            "ticks": "",
            "zerolinecolor": "white"
           }
          },
          "shapedefaults": {
           "line": {
            "color": "#2a3f5f"
           }
          },
          "ternary": {
           "aaxis": {
            "gridcolor": "white",
            "linecolor": "white",
            "ticks": ""
           },
           "baxis": {
            "gridcolor": "white",
            "linecolor": "white",
            "ticks": ""
           },
           "bgcolor": "#E5ECF6",
           "caxis": {
            "gridcolor": "white",
            "linecolor": "white",
            "ticks": ""
           }
          },
          "title": {
           "x": 0.05
          },
          "xaxis": {
           "automargin": true,
           "gridcolor": "white",
           "linecolor": "white",
           "ticks": "",
           "title": {
            "standoff": 15
           },
           "zerolinecolor": "white",
           "zerolinewidth": 2
          },
          "yaxis": {
           "automargin": true,
           "gridcolor": "white",
           "linecolor": "white",
           "ticks": "",
           "title": {
            "standoff": 15
           },
           "zerolinecolor": "white",
           "zerolinewidth": 2
          }
         }
        }
       }
      },
      "image/png": "[encoded data removed]"
     },
     "metadata": {},
     "output_type": "display_data"
    }
   ],
   "source": [
    "fig=px.scatter_3d(df,x='X1_Square',y='X1_Square',z='X1*X2',color='Y')\n",
    "fig.show()"
   ]
  },
  {
   "cell_type": "code",
   "execution_count": 29,
   "id": "ff19b51c-4869-4d96-b1c2-3d5d27fc8ceb",
   "metadata": {},
   "outputs": [
    {
     "data": {
      "text/plain": [
       "1.0"
      ]
     },
     "execution_count": 29,
     "metadata": {},
     "output_type": "execute_result"
    }
   ],
   "source": [
    "classifier = SVC(kernel=\"linear\")\n",
    "classifier.fit(X_train,y_train)\n",
    "y_pred=classifier.predict(X_test)\n",
    "accuracy_score(y_test,y_pred)"
   ]
  },
  {
   "cell_type": "code",
   "execution_count": null,
   "id": "059eb22f-2653-4180-a697-aad1365650e4",
   "metadata": {},
   "outputs": [],
   "source": []
  }
 ],
 "metadata": {
  "kernelspec": {
   "display_name": "Python 3 (ipykernel)",
   "language": "python",
   "name": "python3"
  },
  "language_info": {
   "codemirror_mode": {
    "name": "ipython",
    "version": 3
   },
   "file_extension": ".py",
   "mimetype": "text/x-python",
   "name": "python",
   "nbconvert_exporter": "python",
   "pygments_lexer": "ipython3",
   "version": "3.13.2"
  }
 },
 "nbformat": 4,
 "nbformat_minor": 5
}
